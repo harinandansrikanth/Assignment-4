{
 "cells": [
  {
   "cell_type": "markdown",
   "metadata": {},
   "source": [
    "## Question 1\n",
    "\n",
    "In the brute force algorithm, we start with 0 and increment by intervals of eps until we get to the closest estimate of the square root of x, meaning that there are x/eps steps. In the bisection method, we ignore half of the interval at each step as we keep dividing the zone of possible values in halves, meaning that the number of steps is log(x/eps)/log(2). Hence, the bisection algorithm requires significantly fewer steps that the brute force algorithm, i.e., (log(x/eps)/log(2)) <<< (x/eps)."
   ]
  },
  {
   "cell_type": "markdown",
   "metadata": {},
   "source": [
    "## Question 2\n",
    "\n",
    "Newton's method uses the slope of the function sqrt(x) to find the root of y-sqrt(x). This process discards more than half the interval and therefore narrows the search zone much more than the bisection algorithm, and certainly the brute force algorithm, and hence, it takes fewer steps to find the estimate. As a result, Newton's method outperforms the bisection and brute force algorithms."
   ]
  },
  {
   "cell_type": "code",
   "execution_count": 9,
   "metadata": {},
   "outputs": [
    {
     "name": "stdout",
     "output_type": "stream",
     "text": [
      "Enter a number: 43\n",
      "Your guess for the square root of 43.0 is 6.5574385243\n"
     ]
    }
   ],
   "source": [
    "x = float(input(\"Enter a number: \"))\n",
    "guess = 0\n",
    "step = 1\n",
    "for digit in range(0,11):\n",
    "    while (guess**2) <= x:\n",
    "        guess += step\n",
    "    guess -= step\n",
    "    step=step/10\n",
    "print(\"Your guess for the square root of\",x,\"is\", round(guess,10))"
   ]
  },
  {
   "cell_type": "code",
   "execution_count": null,
   "metadata": {},
   "outputs": [],
   "source": []
  }
 ],
 "metadata": {
  "kernelspec": {
   "display_name": "Python 3",
   "language": "python",
   "name": "python3"
  },
  "language_info": {
   "codemirror_mode": {
    "name": "ipython",
    "version": 3
   },
   "file_extension": ".py",
   "mimetype": "text/x-python",
   "name": "python",
   "nbconvert_exporter": "python",
   "pygments_lexer": "ipython3",
   "version": "3.7.6"
  }
 },
 "nbformat": 4,
 "nbformat_minor": 4
}
