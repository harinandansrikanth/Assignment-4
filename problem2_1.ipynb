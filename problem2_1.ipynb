{
 "cells": [
  {
   "cell_type": "code",
   "execution_count": 1,
   "metadata": {},
   "outputs": [
    {
     "name": "stdout",
     "output_type": "stream",
     "text": [
      "enter a number:16\n",
      "low = 0.0 high = 16.0\n",
      "low = 0.0 high = 8.0\n",
      "low = 0.0 high = 4.0\n",
      "low = 2.0 high = 4.0\n",
      "low = 3.0 high = 4.0\n",
      "low = 3.5 high = 4.0\n",
      "low = 3.75 high = 4.0\n",
      "low = 3.875 high = 4.0\n",
      "low = 3.9375 high = 4.0\n",
      "low = 3.96875 high = 4.0\n",
      "low = 3.984375 high = 4.0\n",
      "low = 3.9921875 high = 4.0\n",
      "low = 3.99609375 high = 4.0\n",
      "low = 3.998046875 high = 4.0\n",
      "low = 3.9990234375 high = 4.0\n",
      "low = 3.99951171875 high = 4.0\n",
      "low = 3.999755859375 high = 4.0\n",
      "low = 3.9998779296875 high = 4.0\n",
      "low = 3.99993896484375 high = 4.0\n",
      "low = 3.999969482421875 high = 4.0\n",
      "number of guesses = 20\n",
      "3.9999923706054688 is close to square root of 16.0\n"
     ]
    }
   ],
   "source": [
    "import numpy as np\n",
    "x = float(input(\"enter a number:\")) \n",
    "epsilon = 0.00001 \n",
    "num_guesses = 0 \n",
    "low = 0.0\n",
    "high = x \n",
    "ans = (high + low)/2.0 \n",
    "while high - low >= 2 * epsilon: \n",
    "    print(\"low =\",low,\"high =\", high) \n",
    "    num_guesses += 1 \n",
    "    if ans ** 2 < x: \n",
    "        low = ans\n",
    "    else: \n",
    "        high = ans \n",
    "    ans = (high + low)/2.0 \n",
    "print('number of guesses =', num_guesses) \n",
    "print(ans, 'is close to square root of', x)\n"
   ]
  },
  {
   "cell_type": "code",
   "execution_count": 10,
   "metadata": {},
   "outputs": [
    {
     "name": "stdout",
     "output_type": "stream",
     "text": [
      "enter a number:23\n",
      "low = 0.0 high = 23.0\n",
      "low = 0.0 high = 11.5\n",
      "low = 0.0 high = 5.75\n",
      "low = 2.875 high = 5.75\n",
      "low = 4.3125 high = 5.75\n",
      "low = 4.3125 high = 5.03125\n",
      "low = 4.671875 high = 5.03125\n",
      "low = 4.671875 high = 4.8515625\n",
      "low = 4.76171875 high = 4.8515625\n",
      "low = 4.76171875 high = 4.806640625\n",
      "low = 4.7841796875 high = 4.806640625\n",
      "low = 4.79541015625 high = 4.806640625\n",
      "low = 4.79541015625 high = 4.801025390625\n",
      "low = 4.79541015625 high = 4.7982177734375\n",
      "low = 4.79541015625 high = 4.79681396484375\n",
      "low = 4.79541015625 high = 4.796112060546875\n",
      "low = 4.7957611083984375 high = 4.796112060546875\n",
      "low = 4.7957611083984375 high = 4.795936584472656\n",
      "low = 4.7957611083984375 high = 4.795848846435547\n",
      "low = 4.795804977416992 high = 4.795848846435547\n",
      "low = 4.7958269119262695 high = 4.795848846435547\n",
      "number of guesses = 21\n",
      "4.795832395553589 is close to square root of 23.0\n"
     ]
    },
    {
     "data": {
      "text/plain": [
       "21.133202430493824"
      ]
     },
     "execution_count": 10,
     "metadata": {},
     "output_type": "execute_result"
    }
   ],
   "source": [
    "import numpy as np\n",
    "x = float(input(\"enter a number:\")) \n",
    "epsilon = 0.00001 \n",
    "num_guesses = 0 \n",
    "if x > 1:\n",
    "    low = 0.0\n",
    "    high = x \n",
    "elif (x >= 0) & (x <= 1) :\n",
    "    low = x\n",
    "    high = 1    \n",
    "ans = (high + low)/2.0 \n",
    "while high - low >= 2 * epsilon: \n",
    "    print(\"low =\",low,\"high =\", high) \n",
    "    num_guesses += 1 \n",
    "    if ans ** 2 < x: \n",
    "        low = ans\n",
    "    else: \n",
    "        high = ans \n",
    "    ans = (high + low)/2.0 \n",
    "    \n",
    "print('number of guesses =', num_guesses) \n",
    "print(ans, 'is close to square root of', x)\n",
    "n = (np.log(x) - np.log(epsilon))/np.log(2)\n",
    "n"
   ]
  },
  {
   "cell_type": "code",
   "execution_count": null,
   "metadata": {},
   "outputs": [],
   "source": []
  }
 ],
 "metadata": {
  "kernelspec": {
   "display_name": "Python 3",
   "language": "python",
   "name": "python3"
  },
  "language_info": {
   "codemirror_mode": {
    "name": "ipython",
    "version": 3
   },
   "file_extension": ".py",
   "mimetype": "text/x-python",
   "name": "python",
   "nbconvert_exporter": "python",
   "pygments_lexer": "ipython3",
   "version": "3.7.6"
  }
 },
 "nbformat": 4,
 "nbformat_minor": 4
}
