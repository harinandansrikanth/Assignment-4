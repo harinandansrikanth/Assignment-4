{
 "cells": [
  {
   "cell_type": "code",
   "execution_count": 68,
   "metadata": {},
   "outputs": [
    {
     "name": "stdout",
     "output_type": "stream",
     "text": [
      "Enter one word: eeeeeeddddddcccccc\n",
      "Enter another word: ecd\n",
      "Letters in common: cde\n"
     ]
    }
   ],
   "source": [
    "word_1 = input(\"Enter one word: \").lower()\n",
    "word_2 = input(\"Enter another word: \").lower()\n",
    "same_letters = []\n",
    "for letter in word_1:\n",
    "    if (letter in word_2) & (letter not in same_letters):\n",
    "        same_letters.append(letter)\n",
    "order_list = []\n",
    "while len(same_letters)!=0:\n",
    "    order_list.append(min(same_letters))\n",
    "    same_letters.remove(min(same_letters))\n",
    "order_join = \"\".join(order_list)\n",
    "print(\"Letters in common:\",order_join)"
   ]
  },
  {
   "cell_type": "code",
   "execution_count": null,
   "metadata": {},
   "outputs": [],
   "source": []
  }
 ],
 "metadata": {
  "kernelspec": {
   "display_name": "Python 3",
   "language": "python",
   "name": "python3"
  },
  "language_info": {
   "codemirror_mode": {
    "name": "ipython",
    "version": 3
   },
   "file_extension": ".py",
   "mimetype": "text/x-python",
   "name": "python",
   "nbconvert_exporter": "python",
   "pygments_lexer": "ipython3",
   "version": "3.7.6"
  }
 },
 "nbformat": 4,
 "nbformat_minor": 4
}
