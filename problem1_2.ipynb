{
 "cells": [
  {
   "cell_type": "code",
   "execution_count": 14,
   "metadata": {},
   "outputs": [
    {
     "name": "stdout",
     "output_type": "stream",
     "text": [
      "Enter a board size: 7\n",
      "[[ 1.  0.  0.  0.  0.  0.  0.]\n",
      " [ 1.  1.  0.  0.  0.  0.  0.]\n",
      " [ 1.  2.  1.  0.  0.  0.  0.]\n",
      " [ 1.  3.  3.  1.  0.  0.  0.]\n",
      " [ 1.  4.  6.  4.  1.  0.  0.]\n",
      " [ 1.  5. 10. 10.  5.  1.  0.]\n",
      " [ 1.  6. 15. 20. 15.  6.  1.]]\n"
     ]
    }
   ],
   "source": [
    "import numpy as np\n",
    "from math import factorial\n",
    "size = int(input(\"Enter a board size: \"))\n",
    "board = np.zeros((size,size))\n",
    "for i in np.arange(size):\n",
    "    for j in np.arange(size):\n",
    "        if i < j:\n",
    "            board[i,j] = 0\n",
    "        elif i == j:\n",
    "            board[i,j] = 1\n",
    "        else:\n",
    "            board[i,j] = factorial(i)/(factorial(i-j)*factorial(j))\n",
    "print(board)    "
   ]
  },
  {
   "cell_type": "code",
   "execution_count": null,
   "metadata": {},
   "outputs": [],
   "source": []
  }
 ],
 "metadata": {
  "kernelspec": {
   "display_name": "Python 3",
   "language": "python",
   "name": "python3"
  },
  "language_info": {
   "codemirror_mode": {
    "name": "ipython",
    "version": 3
   },
   "file_extension": ".py",
   "mimetype": "text/x-python",
   "name": "python",
   "nbconvert_exporter": "python",
   "pygments_lexer": "ipython3",
   "version": "3.7.6"
  }
 },
 "nbformat": 4,
 "nbformat_minor": 4
}
